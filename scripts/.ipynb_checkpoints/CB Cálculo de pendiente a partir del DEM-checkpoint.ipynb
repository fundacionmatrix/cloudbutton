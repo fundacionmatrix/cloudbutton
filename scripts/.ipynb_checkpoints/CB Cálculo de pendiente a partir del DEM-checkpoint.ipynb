{
 "cells": [
  {
   "cell_type": "code",
   "execution_count": 15,
   "metadata": {
    "ExecuteTime": {
     "end_time": "2019-05-23T10:05:25.336481Z",
     "start_time": "2019-05-23T10:05:25.333711Z"
    }
   },
   "outputs": [],
   "source": [
    "import richdem \n",
    "import matplotlib.pyplot as plt #para visualizar las imágenes\n",
    "from mpl_toolkits.mplot3d import Axes3D #para visualizar imágenes en 3D\n",
    "import numpy as np"
   ]
  }
 ],
 "metadata": {
  "kernelspec": {
   "display_name": "Python 3",
   "language": "python",
   "name": "python3"
  },
  "language_info": {
   "codemirror_mode": {
    "name": "ipython",
    "version": 3
   },
   "file_extension": ".py",
   "mimetype": "text/x-python",
   "name": "python",
   "nbconvert_exporter": "python",
   "pygments_lexer": "ipython3",
   "version": "3.7.1"
  }
 },
 "nbformat": 4,
 "nbformat_minor": 2
}
