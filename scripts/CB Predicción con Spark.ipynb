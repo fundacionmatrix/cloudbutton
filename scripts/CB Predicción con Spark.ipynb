{
 "cells": [
  {
   "cell_type": "markdown",
   "metadata": {},
   "source": [
    "<h1 style=\"color:indigo\"> *Predicciones de clasificación de cobertura del suelo utilizando Spark</h1>\n",
    "\n",
    "<p>Autor: <a href=\"https://www.linkedin.com/in/albertoav\" style=\"text-decoration:none;\">Alberto Álvarez Vales</a>     \n",
    "</p>\n",
    "Fecha: 22/03/2019"
   ]
  },
  {
   "cell_type": "code",
   "execution_count": 1,
   "metadata": {},
   "outputs": [
    {
     "name": "stdout",
     "output_type": "stream",
     "text": [
      "Requirement already satisfied: geopandas in /opt/conda/lib/python3.6/site-packages (0.4.1)\r\n",
      "Requirement already satisfied: fiona in /opt/conda/lib/python3.6/site-packages (from geopandas) (1.8.4)\r\n",
      "Requirement already satisfied: pyproj in /opt/conda/lib/python3.6/site-packages (from geopandas) (1.9.6)\r\n",
      "Requirement already satisfied: shapely in /opt/conda/lib/python3.6/site-packages (from geopandas) (1.6.4.post2)\r\n",
      "Requirement already satisfied: pandas in /opt/conda/lib/python3.6/site-packages (from geopandas) (0.23.4)\r\n",
      "Requirement already satisfied: six>=1.7 in /opt/conda/lib/python3.6/site-packages (from fiona->geopandas) (1.12.0)\r\n",
      "Requirement already satisfied: click-plugins>=1.0 in /opt/conda/lib/python3.6/site-packages (from fiona->geopandas) (1.0.4)\r\n",
      "Requirement already satisfied: munch in /opt/conda/lib/python3.6/site-packages (from fiona->geopandas) (2.3.2)\r\n",
      "Requirement already satisfied: click<8,>=4.0 in /opt/conda/lib/python3.6/site-packages (from fiona->geopandas) (7.0)\r\n",
      "Requirement already satisfied: cligj>=0.5 in /opt/conda/lib/python3.6/site-packages (from fiona->geopandas) (0.5.0)\r\n",
      "Requirement already satisfied: attrs>=17 in /opt/conda/lib/python3.6/site-packages (from fiona->geopandas) (18.2.0)\r\n",
      "Requirement already satisfied: numpy>=1.9.0 in /opt/conda/lib/python3.6/site-packages (from pandas->geopandas) (1.16.1)\r\n",
      "Requirement already satisfied: python-dateutil>=2.5.0 in /opt/conda/lib/python3.6/site-packages (from pandas->geopandas) (2.8.0)\r\n",
      "Requirement already satisfied: pytz>=2011k in /opt/conda/lib/python3.6/site-packages (from pandas->geopandas) (2018.9)\r\n"
     ]
    }
   ],
   "source": [
    "!pip install geopandas #se debe instalar geopandas si no lo está para los formatos gpkg"
   ]
  },
  {
   "cell_type": "code",
   "execution_count": 1,
   "metadata": {},
   "outputs": [],
   "source": [
    "from geopandas import read_file,GeoDataFrame"
   ]
  },
  {
   "cell_type": "code",
   "execution_count": 2,
   "metadata": {},
   "outputs": [],
   "source": [
    "from pyspark import SparkContext\n",
    "sc = SparkContext.getOrCreate()\n",
    "from pyspark.sql import SQLContext\n",
    "spark = SQLContext(sc)"
   ]
  },
  {
   "cell_type": "code",
   "execution_count": 3,
   "metadata": {},
   "outputs": [],
   "source": [
    "datosGlobales=read_file(\"segmented_TopFixed.gpkg\")"
   ]
  },
  {
   "cell_type": "code",
   "execution_count": 4,
   "metadata": {},
   "outputs": [],
   "source": [
    "dfGlobal=spark.createDataFrame(datosGlobales)"
   ]
  },
  {
   "cell_type": "code",
   "execution_count": 5,
   "metadata": {},
   "outputs": [
    {
     "name": "stdout",
     "output_type": "stream",
     "text": [
      "+---+------+---------+--------------+--------+-----------+------------------+---------+------------------+------+------+------------------+--------+------------------+---------+------------------+------+------+------------------+---------+------------------+---------+------------------+------+------+------------------+--------------------+\n",
      "|cat|  area|perimeter|compact_circle|      fd|     B1_sum|           B1_mean|B1_median|          B1_stdev|B1_min|B1_max|       B1_variance|  B2_sum|           B2_mean|B2_median|          B2_stdev|B2_min|B2_max|       B2_variance|   B3_sum|           B3_mean|B3_median|          B3_stdev|B3_min|B3_max|       B3_variance|            geometry|\n",
      "+---+------+---------+--------------+--------+-----------+------------------+---------+------------------+------+------+------------------+--------+------------------+---------+------------------+------+------+------------------+---------+------------------+---------+------------------+------+------+------------------+--------------------+\n",
      "|289|  42.0|     68.0|      2.959916|2.257814|   160002.0|3809.5714285714284|   3809.0|371.78675037594064|3117.0|4483.0|138225.38775510198| 42547.0|1013.0238095238095|    957.5| 316.4624771329242| 587.0|1860.0|100148.49943310658|  40264.0| 958.6666666666666|    918.0| 203.8958261870702| 628.0|1494.0|41573.507936507944|[94028785236488, ...|\n",
      "|  1|2646.0|    314.0|      1.721987|1.459088|1.0677334E7|4035.2736205593346|   4042.0| 356.9895384657182|1689.0|5379.0| 127441.5305739665|863037.0| 326.1666666666667|    292.0|123.88339905268381| 202.0|1516.0|  15347.0965608465|1339869.0|506.37528344671205|    466.0|113.10567761932612| 381.0|1292.0|12792.894309726928|[94028785249192, ...|\n",
      "+---+------+---------+--------------+--------+-----------+------------------+---------+------------------+------+------+------------------+--------+------------------+---------+------------------+------+------+------------------+---------+------------------+---------+------------------+------+------+------------------+--------------------+\n",
      "only showing top 2 rows\n",
      "\n"
     ]
    }
   ],
   "source": [
    "dfGlobal.show(2)"
   ]
  },
  {
   "cell_type": "code",
   "execution_count": 6,
   "metadata": {},
   "outputs": [],
   "source": [
    "from pyspark.ml.feature import VectorAssembler"
   ]
  },
  {
   "cell_type": "code",
   "execution_count": 7,
   "metadata": {},
   "outputs": [],
   "source": [
    "columnas=['area', 'perimeter',  'fd', 'perimeter', 'compact_circle', 'fd', 'B1_sum', 'B1_mean', 'B1_median', 'B1_stdev', 'B1_min', 'B1_max', 'B1_variance', 'B2_sum', 'B2_mean', 'B2_median', 'B2_stdev', 'B2_min', 'B2_max', 'B2_variance', 'B3_sum', 'B3_mean', 'B3_median', 'B3_stdev', 'B3_min', 'B3_max', 'B3_variance']\n",
    "constructor=VectorAssembler(inputCols=columnas,\n",
    "                            outputCol=\"features\")"
   ]
  },
  {
   "cell_type": "code",
   "execution_count": 8,
   "metadata": {},
   "outputs": [],
   "source": [
    "dfEF=constructor.transform(dfGlobal).select(\"cat\",\"features\")"
   ]
  },
  {
   "cell_type": "code",
   "execution_count": 9,
   "metadata": {},
   "outputs": [],
   "source": [
    "from pyspark.ml.classification import RandomForestClassificationModel"
   ]
  },
  {
   "cell_type": "code",
   "execution_count": 10,
   "metadata": {},
   "outputs": [],
   "source": [
    "modelo=RandomForestClassificationModel().read().load(\"modelorf\")"
   ]
  },
  {
   "cell_type": "code",
   "execution_count": 11,
   "metadata": {},
   "outputs": [],
   "source": [
    "pred=modelo.transform(dfEF).select(\"cat\",\"prediction\")"
   ]
  },
  {
   "cell_type": "code",
   "execution_count": 12,
   "metadata": {},
   "outputs": [],
   "source": [
    "import pandas as pd\n",
    "\n",
    "predPandas=pd.merge(datosGlobales, pred.toPandas(), on='cat', how='inner')"
   ]
  },
  {
   "cell_type": "code",
   "execution_count": 13,
   "metadata": {},
   "outputs": [],
   "source": [
    "geoPredPandas=GeoDataFrame(predPandas)"
   ]
  },
  {
   "cell_type": "code",
   "execution_count": 14,
   "metadata": {},
   "outputs": [],
   "source": [
    "geoPredPandas.to_file(\"prediccion.gpkg\",driver=\"GPKG\")"
   ]
  },
  {
   "cell_type": "code",
   "execution_count": 1,
   "metadata": {},
   "outputs": [
    {
     "ename": "NameError",
     "evalue": "name 'geoPredPandas' is not defined",
     "output_type": "error",
     "traceback": [
      "\u001b[0;31m---------------------------------------------------------------------------\u001b[0m",
      "\u001b[0;31mNameError\u001b[0m                                 Traceback (most recent call last)",
      "\u001b[0;32m<ipython-input-1-3f0ae07e8ce7>\u001b[0m in \u001b[0;36m<module>\u001b[0;34m\u001b[0m\n\u001b[0;32m----> 1\u001b[0;31m \u001b[0mvisual\u001b[0m\u001b[0;34m=\u001b[0m\u001b[0mgeoPredPandas\u001b[0m\u001b[0;34m.\u001b[0m\u001b[0mplot\u001b[0m\u001b[0;34m(\u001b[0m\u001b[0mfigsize\u001b[0m\u001b[0;34m=\u001b[0m\u001b[0;34m(\u001b[0m\u001b[0;36m20\u001b[0m\u001b[0;34m,\u001b[0m\u001b[0;36m15\u001b[0m\u001b[0;34m)\u001b[0m\u001b[0;34m)\u001b[0m\u001b[0;34m\u001b[0m\u001b[0;34m\u001b[0m\u001b[0m\n\u001b[0m",
      "\u001b[0;31mNameError\u001b[0m: name 'geoPredPandas' is not defined"
     ]
    }
   ],
   "source": [
    "visual=geoPredPandas.plot(figsize=(20,15))"
   ]
  },
  {
   "cell_type": "code",
   "execution_count": null,
   "metadata": {},
   "outputs": [],
   "source": []
  },
  {
   "cell_type": "markdown",
   "metadata": {},
   "source": [
    "# Script de Python para subir a GitLab"
   ]
  },
  {
   "cell_type": "code",
   "execution_count": 1,
   "metadata": {},
   "outputs": [],
   "source": [
    "from pyspark import SparkContext\n",
    "from pyspark.sql import SQLContext\n",
    "from pyspark.ml.feature import VectorAssembler\n",
    "from pyspark.ml.classification import RandomForestClassificationModel\n",
    "from geopandas import read_file,GeoDataFrame\n",
    "import pandas as pd\n",
    "\n",
    "sc = SparkContext.getOrCreate()\n",
    "spark = SQLContext(sc)\n",
    "\n",
    "datosGlobales=read_file(\"segmented_TopFixed.gpkg\")\n",
    "\n",
    "dfGlobal=spark.createDataFrame(datosGlobales)\n",
    "\n",
    "columnas=['area', 'perimeter',  'fd', 'perimeter', 'compact_circle', 'fd', 'B1_sum', 'B1_mean', 'B1_median', 'B1_stdev', 'B1_min', 'B1_max', 'B1_variance', 'B2_sum', 'B2_mean', 'B2_median', 'B2_stdev', 'B2_min', 'B2_max', 'B2_variance', 'B3_sum', 'B3_mean', 'B3_median', 'B3_stdev', 'B3_min', 'B3_max', 'B3_variance']\n",
    "constructor=VectorAssembler(inputCols=columnas,outputCol=\"features\")\n",
    "\n",
    "dfEF=constructor.transform(dfGlobal).select(\"cat\",\"features\")\n",
    "\n",
    "modelo=RandomForestClassificationModel().read().load(\"modelorf\")\n",
    "\n",
    "pred=modelo.transform(dfEF).select(\"cat\",\"prediction\")\n",
    "\n",
    "predPandas=pd.merge(datosGlobales, pred.toPandas(), on='cat', how='inner')\n",
    "\n",
    "geoPredPandas=GeoDataFrame(predPandas)\n",
    "\n",
    "geoPredPandas.to_file(\"prediccion.gpkg\",driver=\"GPKG\")"
   ]
  },
  {
   "cell_type": "markdown",
   "metadata": {},
   "source": [
    "<a href=\"mailto:alberto@torredebabel.com\" style=\"text-decoration:none;\" title=\"Alberto Álvarez Vales\">\n",
    "<img src=\"data:image/png;base64,iVBORw0KGgoAAAANSUhEUgAAADAAAAAwCAYAAABXAvmHAAAAAXNSR0IArs4c6QAAAARnQU1BAACxjwv8YQUAAAAJcEhZcwAADsMAAA7DAcdvqGQAAALOSURBVGhD7ZhbbxJRFIX7Q/Tdn6hWjdEaE6PG2tqIokVa0lAQS4tRAVt6QbBylQoIJP4CjZfn5njWsAfodG9uaWEezkpWSmb22vsrnTmnOTNGRkZGRkZGblOl2bxYrDfDhXrrb7HeUtM0GAq1ZiRX/3GJ8PoL8IV68yfXbJrWTL/KjcYFwpSVKR9tcg3c4HSpGiVMWXOewPHr5D7bYJoG09yz1WPClHX5kVfBS8FNdVips80maTCAxeYiTFkb22l1bXHZKr7tWVWJbJ5tPAknswWLASxgAhthykJwv1BR95bXreCV+Rcq8Paj0ivBqQHnZczCTMwGA1jAhHuEKctuktdNfNF4p8mDVyH9En07Meg8jBkP/eHOlwcGsNj3CVNWbzP4/cEXdXPJbzW88cSnYrvZE/fP0rG9rDUDszATs501hCnLGYCzX2tqPvDGagx7I+9Uvto4VTeu0Qs97f6YhZlcLWHK4kKw3hFV8ENKzT5+aQ25611TqVyZrR3F6IFe6InemIFZXC1MmLK4UK93DkvqzvP2wKt6YCi+y9YNY2RnF9pfCHqiN1fXa8KUxYWczlW/K084Zg2GF9Y21OcR9gzULuqMnUcv9ORqnSZMWVxIcjSVUdfppbv1dEXFM4P3DNSgFhlk0YOrk0yYsrhQP6dLR+q+XmIBhGXPv5Vg9wxcW9H37GUZGWSddYNMmLK40CADzr+V7ML5Quqg2IXDZ1zr/pLJsTdGwpTFhYa19Xh4eh6PnU+WO4+ZvjfMY9bPhCmLC41i5wtqG9dGedElE6YsLjSOw4k9a4mE8ZmrGceEKYsLjWtsUmex2fWaMGVxITeZMGVxITeZMGVxITeZMGVxITeZMGXp/wT/cUFXuNb6Q5iy9A4ZYcMucKHWChKmLJyA4RCJazBN47BtqIMtqH202ArhT+ZsNHHXmr/1z/Wh4Y2MjIyMjIwmppmZ/5kF65N8du5VAAAAAElFTkSuQmCC\" width=\"26px\" height=\"26px\"></a>\n",
    "<a href=\"https://www.linkedin.com/in/albertoav\" style=\"text-decoration:none;\" title=\"Alberto Álvarez Vales\">\n",
    "<img src=\"data:image/png;base64,iVBORw0KGgoAAAANSUhEUgAAABoAAAAaCAYAAACpSkzOAAAAAXNSR0IArs4c6QAAAARnQU1BAACxjwv8YQUAAAAJcEhZcwAADsMAAA7DAcdvqGQAAAFjSURBVEhLYxgFVAPMHZdcGdsvrmTsuLCbPHxxBXP7JReocdgByBKm9gv/mDou/qcIA83AaxnIJ1g1koFBPoMaiwmY2i8ehink6L70P2PHk/8+q+9jGEIUBpoFNRYTIFuUufPJfxD4B8QK065hGkQIE2sRyCcgS15/+/1feMIVTIMIYWItAmGl6dfJswSEibUocuPD/3vufwZjvbk3/ysDLYXxU7Y9/u+y/O7/hZff/V9y5d3/bGAwg+KULIsqDzwHxxEI2C25818faBkMnH/57f9fULgiga13PlLfIhDYDfTZupsfUCw0X3ibuhaBgg+mrvYQQh0oSGHiVLGo9+QruIGOS+9ARf//bz32kroWdRxHGAiSgwFk8VGLwICmFjkuu/u/8/grMAaVEFKTr8L5nqvuwQ0EyWETx2sR3aoJUGVFvYrvghPUWOwAZBnINdiraSJw+8XlzJ3nHaHGjQJKAQMDADrrGXR0IRUYAAAAAElFTkSuQmCC\"></a> "
   ]
  },
  {
   "cell_type": "code",
   "execution_count": null,
   "metadata": {},
   "outputs": [],
   "source": []
  }
 ],
 "metadata": {
  "kernelspec": {
   "display_name": "Python 3",
   "language": "python",
   "name": "python3"
  },
  "language_info": {
   "codemirror_mode": {
    "name": "ipython",
    "version": 3
   },
   "file_extension": ".py",
   "mimetype": "text/x-python",
   "name": "python",
   "nbconvert_exporter": "python",
   "pygments_lexer": "ipython3",
   "version": "3.7.1"
  }
 },
 "nbformat": 4,
 "nbformat_minor": 2
}
